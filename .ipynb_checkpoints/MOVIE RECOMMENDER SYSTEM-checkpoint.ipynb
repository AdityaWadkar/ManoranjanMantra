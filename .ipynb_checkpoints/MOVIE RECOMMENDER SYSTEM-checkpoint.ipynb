{
 "cells": [
  {
   "cell_type": "markdown",
   "id": "07bbc2c9",
   "metadata": {},
   "source": [
    "# MOVIE RECOMMENDER SYSTEM"
   ]
  },
  {
   "cell_type": "markdown",
   "id": "26708a9c",
   "metadata": {},
   "source": [
    "### Importing Libraries"
   ]
  },
  {
   "cell_type": "code",
   "execution_count": 1,
   "id": "5ecf51e7",
   "metadata": {},
   "outputs": [],
   "source": [
    "import numpy as np\n",
    "import pandas as pd\n",
    "import ast\n",
    "from nltk.corpus import stopwords as sw \n",
    "from pprint import pprint\n",
    "from nltk.stem import PorterStemmer"
   ]
  },
  {
   "cell_type": "markdown",
   "id": "e69c4d45",
   "metadata": {},
   "source": [
    "### Fetching data into PANDAS Dataframe"
   ]
  },
  {
   "cell_type": "code",
   "execution_count": 2,
   "id": "b6806bbb",
   "metadata": {},
   "outputs": [],
   "source": [
    "movies = pd.read_csv('data/tmdb_5000_movies.csv')\n",
    "credits = pd.read_csv('data/tmdb_5000_credits.csv')"
   ]
  },
  {
   "cell_type": "code",
   "execution_count": null,
   "id": "e9db4cc6",
   "metadata": {
    "scrolled": true
   },
   "outputs": [],
   "source": [
    "movies.head()"
   ]
  },
  {
   "cell_type": "code",
   "execution_count": null,
   "id": "22b1d010",
   "metadata": {},
   "outputs": [],
   "source": [
    "credits.head()"
   ]
  },
  {
   "cell_type": "markdown",
   "id": "431ab7fb",
   "metadata": {},
   "source": [
    "# "
   ]
  },
  {
   "cell_type": "code",
   "execution_count": null,
   "id": "07e828b7",
   "metadata": {},
   "outputs": [],
   "source": [
    "print(movies['title'][230])    \n",
    "movies['tagline'][230]"
   ]
  },
  {
   "cell_type": "code",
   "execution_count": null,
   "id": "95537253",
   "metadata": {},
   "outputs": [],
   "source": [
    " pprint(credits['cast'][0])"
   ]
  },
  {
   "cell_type": "markdown",
   "id": "5ac7964d",
   "metadata": {},
   "source": [
    "# "
   ]
  },
  {
   "cell_type": "code",
   "execution_count": 3,
   "id": "cc2a456d",
   "metadata": {},
   "outputs": [],
   "source": [
    "swords = sw.words('english')       # importing stopwords from nltk.corpus"
   ]
  },
  {
   "cell_type": "code",
   "execution_count": null,
   "id": "67bcc6d1",
   "metadata": {},
   "outputs": [],
   "source": [
    "data.info()"
   ]
  },
  {
   "cell_type": "code",
   "execution_count": null,
   "id": "045d2708",
   "metadata": {},
   "outputs": [],
   "source": [
    "data.shape"
   ]
  },
  {
   "cell_type": "markdown",
   "id": "66543589",
   "metadata": {},
   "source": [
    "# "
   ]
  },
  {
   "cell_type": "code",
   "execution_count": 4,
   "id": "b92d2ed4",
   "metadata": {},
   "outputs": [],
   "source": [
    "data = movies.merge(credits, on='title')       # merging two Dataframes"
   ]
  },
  {
   "cell_type": "code",
   "execution_count": null,
   "id": "ebbd6a3e",
   "metadata": {},
   "outputs": [],
   "source": [
    "data = data.drop(['budget', 'homepage', 'original_language', 'original_title', 'popularity', 'production_companies', 'production_countries', 'release_date', 'revenue', 'runtime', 'spoken_languages', 'status', 'tagline', 'vote_average', 'vote_count', 'movie_id'], axis=1)"
   ]
  },
  {
   "cell_type": "code",
   "execution_count": null,
   "id": "6e02b1d6",
   "metadata": {},
   "outputs": [],
   "source": [
    "data.columns"
   ]
  },
  {
   "cell_type": "markdown",
   "id": "95580bea",
   "metadata": {},
   "source": [
    "# "
   ]
  },
  {
   "cell_type": "code",
   "execution_count": null,
   "id": "53ccbdfa",
   "metadata": {},
   "outputs": [],
   "source": [
    "data.isnull().sum()"
   ]
  },
  {
   "cell_type": "code",
   "execution_count": null,
   "id": "0d4f456c",
   "metadata": {},
   "outputs": [],
   "source": [
    "data.dropna(inplace=True)"
   ]
  },
  {
   "cell_type": "code",
   "execution_count": null,
   "id": "5cf06eeb",
   "metadata": {},
   "outputs": [],
   "source": [
    "data.duplicated().sum()"
   ]
  },
  {
   "cell_type": "markdown",
   "id": "fc2638f3",
   "metadata": {},
   "source": [
    "# DEFINING IMPORTANT FUNCTIONS"
   ]
  },
  {
   "cell_type": "code",
   "execution_count": 15,
   "id": "04488bcc",
   "metadata": {},
   "outputs": [],
   "source": [
    "def change(obj):\n",
    "    lst = []\n",
    "    for i in ast.literal_eval(obj):\n",
    "        lst.append(i['name']) \n",
    "    for i in lst:\n",
    "        if i == 'Science Fiction':\n",
    "            lst.remove('Science Fiction')\n",
    "            lst.append('SciFi')\n",
    "    return lst"
   ]
  },
  {
   "cell_type": "code",
   "execution_count": 16,
   "id": "ce1cad54",
   "metadata": {},
   "outputs": [],
   "source": [
    "def changeforCast(obj):\n",
    "    lst = []\n",
    "    counter = 0\n",
    "    for i in ast.literal_eval(obj):\n",
    "        if counter != 3:\n",
    "            lst.append(i['name']) \n",
    "            counter += 1\n",
    "        else:\n",
    "            break\n",
    "    return lst"
   ]
  },
  {
   "cell_type": "code",
   "execution_count": 17,
   "id": "3e3272c8",
   "metadata": {},
   "outputs": [],
   "source": [
    "def changeforCrew(obj):\n",
    "    lst = []\n",
    "    for i in ast.literal_eval(obj):\n",
    "        if i['job'] == 'Director':\n",
    "            lst.append(i['name'])\n",
    "            break\n",
    "    return lst"
   ]
  },
  {
   "cell_type": "code",
   "execution_count": 18,
   "id": "12ec668d",
   "metadata": {},
   "outputs": [],
   "source": [
    "def removeSpace(obj):\n",
    "    lst = []\n",
    "    for i in obj:\n",
    "        i = i.replace(\" \", \"\")\n",
    "        lst.append(i)\n",
    "    return lst"
   ]
  },
  {
   "cell_type": "code",
   "execution_count": 19,
   "id": "4ac62988",
   "metadata": {},
   "outputs": [],
   "source": [
    "def stemm(obj):\n",
    "    lst = []\n",
    "    for i in obj.split():\n",
    "        lst.append(ps.stem(i))\n",
    "    return ' '.join(lst)"
   ]
  },
  {
   "cell_type": "markdown",
   "id": "c34bba5c",
   "metadata": {},
   "source": [
    "# Using functions on desired Columns/Features of Dataframe"
   ]
  },
  {
   "cell_type": "code",
   "execution_count": null,
   "id": "ac467432",
   "metadata": {},
   "outputs": [],
   "source": [
    "data['genres'] = data['genres'].apply(change)                      # applying change function\n",
    "data['keywords'] = data['keywords'].apply(change)                  # applying change function\n",
    "data['cast'] = data['cast'].apply(changeforCast)                   # applying changeforCast function\n",
    "data['crew'] = data['crew'].apply(changeforCrew)                   # applying changeforCrew function\n",
    "data['overview'] = data['overview'].apply(lambda x: x.split())     # applying string to list to each field of Overview"
   ]
  },
  {
   "cell_type": "code",
   "execution_count": null,
   "id": "47d41ff8",
   "metadata": {},
   "outputs": [],
   "source": [
    "data['genres'] = data['genres'].apply(removeSpace)                 # applying removeSpace function\n",
    "data['keywords'] = data['keywords'].apply(removeSpace)             # applying removeSpace function\n",
    "data['cast'] = data['cast'].apply(removeSpace)                     # applying removeSpace function\n",
    "data['crew'] = data['crew'].apply(removeSpace)                     # applying removeSpace function"
   ]
  },
  {
   "cell_type": "markdown",
   "id": "b23fb169",
   "metadata": {},
   "source": [
    "# Making new \"tag\" column in Dataframe"
   ]
  },
  {
   "cell_type": "code",
   "execution_count": null,
   "id": "2247d1f9",
   "metadata": {},
   "outputs": [],
   "source": [
    "data['tag'] = data['overview'] + data['genres'] + data['keywords'] + data['cast'] + data['crew']"
   ]
  },
  {
   "cell_type": "markdown",
   "id": "bb8463d6",
   "metadata": {},
   "source": [
    "# Removing Unwanted Columns"
   ]
  },
  {
   "cell_type": "code",
   "execution_count": null,
   "id": "1d0af346",
   "metadata": {},
   "outputs": [],
   "source": [
    "data = data.drop(['overview', 'genres', 'keywords', 'cast', 'crew'], axis = 1)"
   ]
  },
  {
   "cell_type": "code",
   "execution_count": null,
   "id": "e3ca721c",
   "metadata": {},
   "outputs": [],
   "source": [
    "data['tag'] = data['tag'].apply(lambda x: ' '.join(x))"
   ]
  },
  {
   "cell_type": "code",
   "execution_count": null,
   "id": "92159056",
   "metadata": {},
   "outputs": [],
   "source": [
    "data.head()"
   ]
  },
  {
   "cell_type": "markdown",
   "id": "a2f329e0",
   "metadata": {},
   "source": [
    "# Data Modification"
   ]
  },
  {
   "cell_type": "code",
   "execution_count": null,
   "id": "c53ae4e9",
   "metadata": {},
   "outputs": [],
   "source": [
    "data['tag'] = data['tag'].apply(lambda x: ' '.join(word for word in x.split() if word not in swords))"
   ]
  },
  {
   "cell_type": "code",
   "execution_count": null,
   "id": "a9d90f48",
   "metadata": {},
   "outputs": [],
   "source": [
    "ps = PorterStemmer()"
   ]
  },
  {
   "cell_type": "code",
   "execution_count": null,
   "id": "5e7f2c18",
   "metadata": {},
   "outputs": [],
   "source": [
    "data['tag'] = data['tag'].apply(stemm)"
   ]
  },
  {
   "cell_type": "markdown",
   "id": "477e0c19",
   "metadata": {},
   "source": [
    "# Vectorization"
   ]
  },
  {
   "cell_type": "code",
   "execution_count": null,
   "id": "5331fd02",
   "metadata": {},
   "outputs": [],
   "source": [
    "from sklearn.feature_extraction.text import CountVectorizer\n",
    "cv = CountVectorizer(max_features=5500, stop_words='english')"
   ]
  },
  {
   "cell_type": "code",
   "execution_count": null,
   "id": "88305b24",
   "metadata": {},
   "outputs": [],
   "source": [
    "vectors = cv.fit_transform(data['tag']).toarray()"
   ]
  },
  {
   "cell_type": "code",
   "execution_count": null,
   "id": "8eb3925e",
   "metadata": {},
   "outputs": [],
   "source": [
    "cv.get_feature_names_out()"
   ]
  },
  {
   "cell_type": "markdown",
   "id": "00e69cc8",
   "metadata": {},
   "source": [
    "# Calculating similarity of each movie with other movies "
   ]
  },
  {
   "cell_type": "code",
   "execution_count": null,
   "id": "3e829cfb",
   "metadata": {},
   "outputs": [],
   "source": [
    "from sklearn.metrics.pairwise import cosine_similarity\n",
    "similarity = cosine_similarity(vectors)"
   ]
  },
  {
   "cell_type": "markdown",
   "id": "7c8e477c",
   "metadata": {},
   "source": [
    "# Defining the Target Function"
   ]
  },
  {
   "cell_type": "code",
   "execution_count": null,
   "id": "e76cb188",
   "metadata": {},
   "outputs": [],
   "source": [
    "def recommend(movie):\n",
    "    index = 0\n",
    "    top5_movies = []\n",
    "    movie_index = data[data['title'] == movie].index[0]\n",
    "    distances = sorted(list(enumerate(similarity[movie_index])), reverse=True, key=lambda x: x[1])[0:10]\n",
    "    for i, j in distances:\n",
    "        top5_movies.append(data.iloc[i].title)\n",
    "    return top5_movies"
   ]
  },
  {
   "cell_type": "markdown",
   "id": "6da88107",
   "metadata": {},
   "source": [
    "# "
   ]
  },
  {
   "cell_type": "markdown",
   "id": "249c9eae",
   "metadata": {},
   "source": [
    "# Hindi Movies Dataset and Model Building "
   ]
  },
  {
   "cell_type": "code",
   "execution_count": null,
   "id": "963427f5",
   "metadata": {},
   "outputs": [],
   "source": [
    "hindi = pd.read_csv('data/hindi_movies.csv')"
   ]
  },
  {
   "cell_type": "code",
   "execution_count": null,
   "id": "15ffd148",
   "metadata": {},
   "outputs": [],
   "source": [
    "hindi.head()"
   ]
  },
  {
   "cell_type": "code",
   "execution_count": null,
   "id": "bab9ac99",
   "metadata": {},
   "outputs": [],
   "source": [
    "hindi.drop(columns=['Unnamed: 0'], inplace=True)     # dropping unwanted column"
   ]
  },
  {
   "cell_type": "markdown",
   "id": "a7e928c1",
   "metadata": {},
   "source": [
    "# Removing punctuations and unwanted signs"
   ]
  },
  {
   "cell_type": "code",
   "execution_count": null,
   "id": "6c42a75c",
   "metadata": {},
   "outputs": [],
   "source": [
    "import string\n",
    "def removeUnwanted(obj):\n",
    "    lst = []\n",
    "    obj = obj.translate(str.maketrans('', '', string.punctuation))\n",
    "    for i in obj.split():\n",
    "        if i != '—' and not i.isnumeric():\n",
    "            lst.append(i)\n",
    "    return lst"
   ]
  },
  {
   "cell_type": "code",
   "execution_count": null,
   "id": "17b24378",
   "metadata": {},
   "outputs": [],
   "source": [
    "hindi['tag'] = hindi['tag'].apply(removeUnwanted)"
   ]
  },
  {
   "cell_type": "code",
   "execution_count": null,
   "id": "75c8897f",
   "metadata": {},
   "outputs": [],
   "source": [
    "hindi['tag'] = hindi['tag'].apply(lambda x: ' '.join(word for word in x))"
   ]
  },
  {
   "cell_type": "code",
   "execution_count": null,
   "id": "b694ad27",
   "metadata": {},
   "outputs": [],
   "source": [
    "hindi['tag'] = hindi['tag'].apply(lambda x: ' '.join(word for word in x.split() if word not in swords))"
   ]
  },
  {
   "cell_type": "markdown",
   "id": "163bc6c1",
   "metadata": {},
   "source": [
    "# "
   ]
  },
  {
   "cell_type": "code",
   "execution_count": null,
   "id": "47c29a73",
   "metadata": {},
   "outputs": [],
   "source": [
    "hindi.isnull().sum()"
   ]
  },
  {
   "cell_type": "code",
   "execution_count": null,
   "id": "3694fd1b",
   "metadata": {},
   "outputs": [],
   "source": [
    "hindi.duplicated().sum()"
   ]
  },
  {
   "cell_type": "code",
   "execution_count": null,
   "id": "53e2bc37",
   "metadata": {},
   "outputs": [],
   "source": [
    "hindi.drop_duplicates(inplace=True)     # dropping duplicates "
   ]
  },
  {
   "cell_type": "code",
   "execution_count": null,
   "id": "122af83c",
   "metadata": {},
   "outputs": [],
   "source": [
    "hindi.iloc[0].tag"
   ]
  },
  {
   "cell_type": "code",
   "execution_count": null,
   "id": "a4dc8aa3",
   "metadata": {},
   "outputs": [],
   "source": [
    "hindi['tag'] = hindi['tag'].apply(stemm)      # stemming the Words"
   ]
  },
  {
   "cell_type": "code",
   "execution_count": null,
   "id": "c69e8790",
   "metadata": {},
   "outputs": [],
   "source": [
    "hindi.shape"
   ]
  },
  {
   "cell_type": "code",
   "execution_count": null,
   "id": "b98e1980",
   "metadata": {},
   "outputs": [],
   "source": [
    "hindi.drop(438, axis=0, inplace=True)     # dropping row which is imbalanced\n",
    "hindi.drop(439, axis=0, inplace=True)     # dropping row which is imbalanced"
   ]
  },
  {
   "cell_type": "markdown",
   "id": "800843d7",
   "metadata": {},
   "source": [
    "# Vectorization"
   ]
  },
  {
   "cell_type": "code",
   "execution_count": null,
   "id": "6b2660ed",
   "metadata": {},
   "outputs": [],
   "source": [
    "from sklearn.feature_extraction.text import CountVectorizer\n",
    "cv1 = CountVectorizer(max_features=2000, stop_words='english')"
   ]
  },
  {
   "cell_type": "code",
   "execution_count": null,
   "id": "8a0bead3",
   "metadata": {},
   "outputs": [],
   "source": [
    "vectors1 = cv1.fit_transform(hindi['tag']).toarray()"
   ]
  },
  {
   "cell_type": "code",
   "execution_count": null,
   "id": "f705d49d",
   "metadata": {},
   "outputs": [],
   "source": [
    "vectors1[0]"
   ]
  },
  {
   "cell_type": "code",
   "execution_count": null,
   "id": "fbc9eed6",
   "metadata": {
    "scrolled": true
   },
   "outputs": [],
   "source": [
    "cv1.get_feature_names_out()"
   ]
  },
  {
   "cell_type": "markdown",
   "id": "9c4b3390",
   "metadata": {},
   "source": [
    "# Calculating similarity of each movie with other movies"
   ]
  },
  {
   "cell_type": "code",
   "execution_count": null,
   "id": "42ea04fb",
   "metadata": {},
   "outputs": [],
   "source": [
    "from sklearn.metrics.pairwise import cosine_similarity\n",
    "similarity1 = cosine_similarity(vectors1)"
   ]
  },
  {
   "cell_type": "markdown",
   "id": "e3ee65dc",
   "metadata": {},
   "source": [
    "# Defining the Target Function"
   ]
  },
  {
   "cell_type": "code",
   "execution_count": null,
   "id": "a910a5ed",
   "metadata": {},
   "outputs": [],
   "source": [
    "def recommend_hindi(movie):\n",
    "    index = 0\n",
    "    top5_movies_hindi = []\n",
    "    hindi_movie_index = hindi[hindi['title'] == movie].index[0]\n",
    "    distances = sorted(list(enumerate(similarity1[hindi_movie_index])), reverse=True, key=lambda x: x[1])[0:10]\n",
    "    for i, j in distances:\n",
    "        top5_movies_hindi.append(hindi.iloc[i].title)\n",
    "    return top5_movies_hindi"
   ]
  },
  {
   "cell_type": "markdown",
   "id": "03fb10b5",
   "metadata": {},
   "source": [
    "### Generating Pickle files"
   ]
  },
  {
   "cell_type": "code",
   "execution_count": null,
   "id": "ad6a2178",
   "metadata": {},
   "outputs": [],
   "source": [
    "import pickle"
   ]
  },
  {
   "cell_type": "code",
   "execution_count": null,
   "id": "60befa3e",
   "metadata": {},
   "outputs": [],
   "source": [
    "pickle.dump(hindi, open('hindi_movies.pkl', 'wb'))              # For Hindi Movies\n",
    "pickle.dump(similarity1, open('hindi_similarity.pkl', 'wb'))"
   ]
  },
  {
   "cell_type": "code",
   "execution_count": null,
   "id": "dcac7aae",
   "metadata": {},
   "outputs": [],
   "source": [
    "pickle.dump(data, open('movies.pkl', 'wb'))                     # For English Movies\n",
    "pickle.dump(similarity, open('similarity.pkl', 'wb'))"
   ]
  },
  {
   "cell_type": "markdown",
   "id": "8ec3ee73",
   "metadata": {},
   "source": [
    "# "
   ]
  },
  {
   "cell_type": "markdown",
   "id": "6a120291",
   "metadata": {},
   "source": [
    "# RESULT (English Movies)"
   ]
  },
  {
   "cell_type": "code",
   "execution_count": null,
   "id": "9bf9f0e8",
   "metadata": {},
   "outputs": [],
   "source": [
    "recommend('Avatar')"
   ]
  },
  {
   "cell_type": "markdown",
   "id": "4ec8220e",
   "metadata": {},
   "source": [
    "# RESULT (Hindi Movies)"
   ]
  },
  {
   "cell_type": "code",
   "execution_count": null,
   "id": "f1c07ca2",
   "metadata": {},
   "outputs": [],
   "source": [
    "recommend_hindi('Pathaan')"
   ]
  },
  {
   "cell_type": "markdown",
   "id": "90ae98a8",
   "metadata": {},
   "source": [
    "# "
   ]
  },
  {
   "cell_type": "markdown",
   "id": "19c63e60",
   "metadata": {},
   "source": [
    "# "
   ]
  },
  {
   "cell_type": "code",
   "execution_count": null,
   "id": "02f0fb54",
   "metadata": {},
   "outputs": [],
   "source": [
    "from threading import Thread\n",
    "import requests\n",
    "from bs4 import BeautifulSoup\n",
    "def download_links(qs):\n",
    "    global flag2\n",
    "    global loading\n",
    "    qs = qs.replace(\" \",\"-\").lower()\n",
    "    URL = 'https://dotmovies.beauty/download-' + qs\n",
    "    page = requests.get(URL)\n",
    "\n",
    "    soup = BeautifulSoup(page.content, 'html.parser')\n",
    "    links = soup.findAll(\"a\")\n",
    "    flag=True\n",
    "    for link in links:\n",
    "        link_href = link.get('href')\n",
    "        if \"https://dotmovies.beauty?\" in link_href:\n",
    "            print(link_href)\n",
    "            flag=False\n",
    "    if flag==True:\n",
    "        print(\"Sorry,couldnt find any link\")\n"
   ]
  },
  {
   "cell_type": "code",
   "execution_count": null,
   "id": "38f11960",
   "metadata": {},
   "outputs": [],
   "source": [
    "download_links('3')"
   ]
  },
  {
   "cell_type": "markdown",
   "id": "61f1ccf5",
   "metadata": {},
   "source": [
    "# "
   ]
  },
  {
   "cell_type": "markdown",
   "id": "fea9983d",
   "metadata": {},
   "source": [
    "# "
   ]
  },
  {
   "cell_type": "markdown",
   "id": "7e3558cd",
   "metadata": {},
   "source": [
    "# Movies Description Data Fetching"
   ]
  },
  {
   "cell_type": "code",
   "execution_count": 5,
   "id": "15038057",
   "metadata": {},
   "outputs": [],
   "source": [
    "movies_desciption = data"
   ]
  },
  {
   "cell_type": "code",
   "execution_count": 6,
   "id": "7c2013f4",
   "metadata": {},
   "outputs": [
    {
     "data": {
      "text/plain": [
       "Index(['budget', 'genres', 'homepage', 'id', 'keywords', 'original_language',\n",
       "       'original_title', 'overview', 'popularity', 'production_companies',\n",
       "       'production_countries', 'release_date', 'revenue', 'runtime',\n",
       "       'spoken_languages', 'status', 'tagline', 'title', 'vote_average',\n",
       "       'vote_count', 'movie_id', 'cast', 'crew'],\n",
       "      dtype='object')"
      ]
     },
     "execution_count": 6,
     "metadata": {},
     "output_type": "execute_result"
    }
   ],
   "source": [
    "movies_desciption.columns"
   ]
  },
  {
   "cell_type": "code",
   "execution_count": 7,
   "id": "4e3ce1c3",
   "metadata": {},
   "outputs": [],
   "source": [
    "movies_desciption.drop(columns=['budget', 'homepage', 'original_title', 'production_companies', 'revenue', 'tagline', 'vote_count'], inplace=True)"
   ]
  },
  {
   "cell_type": "code",
   "execution_count": 8,
   "id": "550b8b08",
   "metadata": {},
   "outputs": [],
   "source": [
    "movies_desciption.drop(columns=['production_countries', 'spoken_languages', 'status', 'original_language', 'popularity'], inplace=True)"
   ]
  },
  {
   "cell_type": "code",
   "execution_count": 9,
   "id": "c4bbc8f8",
   "metadata": {},
   "outputs": [],
   "source": [
    "movies_desciption.drop(columns=['movie_id'], inplace=True)"
   ]
  },
  {
   "cell_type": "code",
   "execution_count": 10,
   "id": "30f2bdd8",
   "metadata": {
    "scrolled": true
   },
   "outputs": [
    {
     "data": {
      "text/html": [
       "<div>\n",
       "<style scoped>\n",
       "    .dataframe tbody tr th:only-of-type {\n",
       "        vertical-align: middle;\n",
       "    }\n",
       "\n",
       "    .dataframe tbody tr th {\n",
       "        vertical-align: top;\n",
       "    }\n",
       "\n",
       "    .dataframe thead th {\n",
       "        text-align: right;\n",
       "    }\n",
       "</style>\n",
       "<table border=\"1\" class=\"dataframe\">\n",
       "  <thead>\n",
       "    <tr style=\"text-align: right;\">\n",
       "      <th></th>\n",
       "      <th>genres</th>\n",
       "      <th>id</th>\n",
       "      <th>keywords</th>\n",
       "      <th>overview</th>\n",
       "      <th>release_date</th>\n",
       "      <th>runtime</th>\n",
       "      <th>title</th>\n",
       "      <th>vote_average</th>\n",
       "      <th>cast</th>\n",
       "      <th>crew</th>\n",
       "    </tr>\n",
       "  </thead>\n",
       "  <tbody>\n",
       "    <tr>\n",
       "      <th>0</th>\n",
       "      <td>[{\"id\": 28, \"name\": \"Action\"}, {\"id\": 12, \"nam...</td>\n",
       "      <td>19995</td>\n",
       "      <td>[{\"id\": 1463, \"name\": \"culture clash\"}, {\"id\":...</td>\n",
       "      <td>In the 22nd century, a paraplegic Marine is di...</td>\n",
       "      <td>2009-12-10</td>\n",
       "      <td>162.0</td>\n",
       "      <td>Avatar</td>\n",
       "      <td>7.2</td>\n",
       "      <td>[{\"cast_id\": 242, \"character\": \"Jake Sully\", \"...</td>\n",
       "      <td>[{\"credit_id\": \"52fe48009251416c750aca23\", \"de...</td>\n",
       "    </tr>\n",
       "    <tr>\n",
       "      <th>1</th>\n",
       "      <td>[{\"id\": 12, \"name\": \"Adventure\"}, {\"id\": 14, \"...</td>\n",
       "      <td>285</td>\n",
       "      <td>[{\"id\": 270, \"name\": \"ocean\"}, {\"id\": 726, \"na...</td>\n",
       "      <td>Captain Barbossa, long believed to be dead, ha...</td>\n",
       "      <td>2007-05-19</td>\n",
       "      <td>169.0</td>\n",
       "      <td>Pirates of the Caribbean: At World's End</td>\n",
       "      <td>6.9</td>\n",
       "      <td>[{\"cast_id\": 4, \"character\": \"Captain Jack Spa...</td>\n",
       "      <td>[{\"credit_id\": \"52fe4232c3a36847f800b579\", \"de...</td>\n",
       "    </tr>\n",
       "    <tr>\n",
       "      <th>2</th>\n",
       "      <td>[{\"id\": 28, \"name\": \"Action\"}, {\"id\": 12, \"nam...</td>\n",
       "      <td>206647</td>\n",
       "      <td>[{\"id\": 470, \"name\": \"spy\"}, {\"id\": 818, \"name...</td>\n",
       "      <td>A cryptic message from Bond’s past sends him o...</td>\n",
       "      <td>2015-10-26</td>\n",
       "      <td>148.0</td>\n",
       "      <td>Spectre</td>\n",
       "      <td>6.3</td>\n",
       "      <td>[{\"cast_id\": 1, \"character\": \"James Bond\", \"cr...</td>\n",
       "      <td>[{\"credit_id\": \"54805967c3a36829b5002c41\", \"de...</td>\n",
       "    </tr>\n",
       "    <tr>\n",
       "      <th>3</th>\n",
       "      <td>[{\"id\": 28, \"name\": \"Action\"}, {\"id\": 80, \"nam...</td>\n",
       "      <td>49026</td>\n",
       "      <td>[{\"id\": 849, \"name\": \"dc comics\"}, {\"id\": 853,...</td>\n",
       "      <td>Following the death of District Attorney Harve...</td>\n",
       "      <td>2012-07-16</td>\n",
       "      <td>165.0</td>\n",
       "      <td>The Dark Knight Rises</td>\n",
       "      <td>7.6</td>\n",
       "      <td>[{\"cast_id\": 2, \"character\": \"Bruce Wayne / Ba...</td>\n",
       "      <td>[{\"credit_id\": \"52fe4781c3a36847f81398c3\", \"de...</td>\n",
       "    </tr>\n",
       "    <tr>\n",
       "      <th>4</th>\n",
       "      <td>[{\"id\": 28, \"name\": \"Action\"}, {\"id\": 12, \"nam...</td>\n",
       "      <td>49529</td>\n",
       "      <td>[{\"id\": 818, \"name\": \"based on novel\"}, {\"id\":...</td>\n",
       "      <td>John Carter is a war-weary, former military ca...</td>\n",
       "      <td>2012-03-07</td>\n",
       "      <td>132.0</td>\n",
       "      <td>John Carter</td>\n",
       "      <td>6.1</td>\n",
       "      <td>[{\"cast_id\": 5, \"character\": \"John Carter\", \"c...</td>\n",
       "      <td>[{\"credit_id\": \"52fe479ac3a36847f813eaa3\", \"de...</td>\n",
       "    </tr>\n",
       "  </tbody>\n",
       "</table>\n",
       "</div>"
      ],
      "text/plain": [
       "                                              genres      id  \\\n",
       "0  [{\"id\": 28, \"name\": \"Action\"}, {\"id\": 12, \"nam...   19995   \n",
       "1  [{\"id\": 12, \"name\": \"Adventure\"}, {\"id\": 14, \"...     285   \n",
       "2  [{\"id\": 28, \"name\": \"Action\"}, {\"id\": 12, \"nam...  206647   \n",
       "3  [{\"id\": 28, \"name\": \"Action\"}, {\"id\": 80, \"nam...   49026   \n",
       "4  [{\"id\": 28, \"name\": \"Action\"}, {\"id\": 12, \"nam...   49529   \n",
       "\n",
       "                                            keywords  \\\n",
       "0  [{\"id\": 1463, \"name\": \"culture clash\"}, {\"id\":...   \n",
       "1  [{\"id\": 270, \"name\": \"ocean\"}, {\"id\": 726, \"na...   \n",
       "2  [{\"id\": 470, \"name\": \"spy\"}, {\"id\": 818, \"name...   \n",
       "3  [{\"id\": 849, \"name\": \"dc comics\"}, {\"id\": 853,...   \n",
       "4  [{\"id\": 818, \"name\": \"based on novel\"}, {\"id\":...   \n",
       "\n",
       "                                            overview release_date  runtime  \\\n",
       "0  In the 22nd century, a paraplegic Marine is di...   2009-12-10    162.0   \n",
       "1  Captain Barbossa, long believed to be dead, ha...   2007-05-19    169.0   \n",
       "2  A cryptic message from Bond’s past sends him o...   2015-10-26    148.0   \n",
       "3  Following the death of District Attorney Harve...   2012-07-16    165.0   \n",
       "4  John Carter is a war-weary, former military ca...   2012-03-07    132.0   \n",
       "\n",
       "                                      title  vote_average  \\\n",
       "0                                    Avatar           7.2   \n",
       "1  Pirates of the Caribbean: At World's End           6.9   \n",
       "2                                   Spectre           6.3   \n",
       "3                     The Dark Knight Rises           7.6   \n",
       "4                               John Carter           6.1   \n",
       "\n",
       "                                                cast  \\\n",
       "0  [{\"cast_id\": 242, \"character\": \"Jake Sully\", \"...   \n",
       "1  [{\"cast_id\": 4, \"character\": \"Captain Jack Spa...   \n",
       "2  [{\"cast_id\": 1, \"character\": \"James Bond\", \"cr...   \n",
       "3  [{\"cast_id\": 2, \"character\": \"Bruce Wayne / Ba...   \n",
       "4  [{\"cast_id\": 5, \"character\": \"John Carter\", \"c...   \n",
       "\n",
       "                                                crew  \n",
       "0  [{\"credit_id\": \"52fe48009251416c750aca23\", \"de...  \n",
       "1  [{\"credit_id\": \"52fe4232c3a36847f800b579\", \"de...  \n",
       "2  [{\"credit_id\": \"54805967c3a36829b5002c41\", \"de...  \n",
       "3  [{\"credit_id\": \"52fe4781c3a36847f81398c3\", \"de...  \n",
       "4  [{\"credit_id\": \"52fe479ac3a36847f813eaa3\", \"de...  "
      ]
     },
     "execution_count": 10,
     "metadata": {},
     "output_type": "execute_result"
    }
   ],
   "source": [
    "movies_desciption.head()"
   ]
  },
  {
   "cell_type": "code",
   "execution_count": null,
   "id": "bf938bd5",
   "metadata": {},
   "outputs": [],
   "source": [
    "c = 0\n",
    "lst = []\n",
    "for i in range(movies_desciption.shape[0]):\n",
    "    if movies_desciption.iloc[i].id != movies_desciption.iloc[i].movie_id:\n",
    "        c += 1\n",
    "        lst.append(i)\n",
    "print(c)"
   ]
  },
  {
   "cell_type": "code",
   "execution_count": 12,
   "id": "d0d78304",
   "metadata": {},
   "outputs": [
    {
     "data": {
      "text/plain": [
       "genres          [{\"id\": 28, \"name\": \"Action\"}, {\"id\": 12, \"nam...\n",
       "id                                                          72710\n",
       "keywords        [{\"id\": 818, \"name\": \"based on novel\"}, {\"id\":...\n",
       "overview        A parasitic alien soul is injected into the bo...\n",
       "release_date                                           2013-03-22\n",
       "runtime                                                     125.0\n",
       "title                                                    The Host\n",
       "vote_average                                                  6.0\n",
       "cast            [{\"cast_id\": 3, \"character\": \"Park Gang-du\", \"...\n",
       "crew            [{\"credit_id\": \"52fe42eac3a36847f802ca6b\", \"de...\n",
       "Name: 973, dtype: object"
      ]
     },
     "execution_count": 12,
     "metadata": {},
     "output_type": "execute_result"
    }
   ],
   "source": [
    "movies_desciption.iloc[973]"
   ]
  },
  {
   "cell_type": "code",
   "execution_count": null,
   "id": "3e9136c3",
   "metadata": {
    "scrolled": true
   },
   "outputs": [],
   "source": [
    "lst"
   ]
  },
  {
   "cell_type": "code",
   "execution_count": null,
   "id": "533631d0",
   "metadata": {},
   "outputs": [],
   "source": [
    "movies_desciption.info()"
   ]
  },
  {
   "cell_type": "code",
   "execution_count": 13,
   "id": "e18a3043",
   "metadata": {},
   "outputs": [],
   "source": [
    "movies_desciption.dropna(inplace=True)\n",
    "movies_desciption.drop_duplicates(inplace=True)"
   ]
  },
  {
   "cell_type": "code",
   "execution_count": 20,
   "id": "e40a869b",
   "metadata": {},
   "outputs": [],
   "source": [
    "movies_desciption['genres'] = movies_desciption['genres'].apply(change)                      # applying change function\n",
    "movies_desciption['keywords'] = movies_desciption['keywords'].apply(change)\n",
    "movies_desciption['cast'] = movies_desciption['cast'].apply(changeforCast)                   # applying changeforCast function\n",
    "movies_desciption['crew'] = movies_desciption['crew'].apply(changeforCrew) "
   ]
  },
  {
   "cell_type": "code",
   "execution_count": 27,
   "id": "0cbdb494",
   "metadata": {
    "scrolled": true
   },
   "outputs": [
    {
     "data": {
      "text/html": [
       "<div>\n",
       "<style scoped>\n",
       "    .dataframe tbody tr th:only-of-type {\n",
       "        vertical-align: middle;\n",
       "    }\n",
       "\n",
       "    .dataframe tbody tr th {\n",
       "        vertical-align: top;\n",
       "    }\n",
       "\n",
       "    .dataframe thead th {\n",
       "        text-align: right;\n",
       "    }\n",
       "</style>\n",
       "<table border=\"1\" class=\"dataframe\">\n",
       "  <thead>\n",
       "    <tr style=\"text-align: right;\">\n",
       "      <th></th>\n",
       "      <th>genres</th>\n",
       "      <th>id</th>\n",
       "      <th>keywords</th>\n",
       "      <th>overview</th>\n",
       "      <th>release_date</th>\n",
       "      <th>runtime</th>\n",
       "      <th>title</th>\n",
       "      <th>vote_average</th>\n",
       "      <th>cast</th>\n",
       "      <th>crew</th>\n",
       "    </tr>\n",
       "  </thead>\n",
       "  <tbody>\n",
       "    <tr>\n",
       "      <th>3500</th>\n",
       "      <td>[Drama]</td>\n",
       "      <td>59728</td>\n",
       "      <td>[american football, loss of brother, funeral, ...</td>\n",
       "      <td>In the wake of a car crash that killed his bro...</td>\n",
       "      <td>2011-03-25</td>\n",
       "      <td>97.0</td>\n",
       "      <td>The 5th Quarter</td>\n",
       "      <td>4.7</td>\n",
       "      <td>[Aidan Quinn, Andie MacDowell, Ryan Merriman]</td>\n",
       "      <td>[Rick Bieber]</td>\n",
       "    </tr>\n",
       "    <tr>\n",
       "      <th>4673</th>\n",
       "      <td>[Romance, Drama]</td>\n",
       "      <td>77332</td>\n",
       "      <td>[]</td>\n",
       "      <td>Charlie takes an odyssey through grief during ...</td>\n",
       "      <td>2000-01-24</td>\n",
       "      <td>103.0</td>\n",
       "      <td>Urbania</td>\n",
       "      <td>5.2</td>\n",
       "      <td>[Dan Futterman, Matt Keeslar, Samuel Ball]</td>\n",
       "      <td>[Jon Matthews]</td>\n",
       "    </tr>\n",
       "    <tr>\n",
       "      <th>1912</th>\n",
       "      <td>[Comedy]</td>\n",
       "      <td>10591</td>\n",
       "      <td>[porn actor, pornographic video, high school, ...</td>\n",
       "      <td>Exceptionally ambitious high schooler Matthew ...</td>\n",
       "      <td>2004-04-09</td>\n",
       "      <td>108.0</td>\n",
       "      <td>The Girl Next Door</td>\n",
       "      <td>6.3</td>\n",
       "      <td>[Emile Hirsch, Elisha Cuthbert, Timothy Olyphant]</td>\n",
       "      <td>[Luke Greenfield]</td>\n",
       "    </tr>\n",
       "    <tr>\n",
       "      <th>3827</th>\n",
       "      <td>[Music, Romance]</td>\n",
       "      <td>35032</td>\n",
       "      <td>[musical, pirate]</td>\n",
       "      <td>A girl is engaged to the local richman, but me...</td>\n",
       "      <td>1948-06-11</td>\n",
       "      <td>102.0</td>\n",
       "      <td>The Pirate</td>\n",
       "      <td>6.6</td>\n",
       "      <td>[Judy Garland, Gene Kelly, Walter Slezak]</td>\n",
       "      <td>[Vincente Minnelli]</td>\n",
       "    </tr>\n",
       "    <tr>\n",
       "      <th>4700</th>\n",
       "      <td>[Drama]</td>\n",
       "      <td>288927</td>\n",
       "      <td>[woman director]</td>\n",
       "      <td>A woman's dementia uncovers secrets of a 30-ye...</td>\n",
       "      <td>2014-09-12</td>\n",
       "      <td>94.0</td>\n",
       "      <td>Archaeology of a Woman</td>\n",
       "      <td>0.0</td>\n",
       "      <td>[Sally Kirkland, Victoria Clark, James Murtaugh]</td>\n",
       "      <td>[Sharon Greytak]</td>\n",
       "    </tr>\n",
       "  </tbody>\n",
       "</table>\n",
       "</div>"
      ],
      "text/plain": [
       "                genres      id  \\\n",
       "3500           [Drama]   59728   \n",
       "4673  [Romance, Drama]   77332   \n",
       "1912          [Comedy]   10591   \n",
       "3827  [Music, Romance]   35032   \n",
       "4700           [Drama]  288927   \n",
       "\n",
       "                                               keywords  \\\n",
       "3500  [american football, loss of brother, funeral, ...   \n",
       "4673                                                 []   \n",
       "1912  [porn actor, pornographic video, high school, ...   \n",
       "3827                                  [musical, pirate]   \n",
       "4700                                   [woman director]   \n",
       "\n",
       "                                               overview release_date  runtime  \\\n",
       "3500  In the wake of a car crash that killed his bro...   2011-03-25     97.0   \n",
       "4673  Charlie takes an odyssey through grief during ...   2000-01-24    103.0   \n",
       "1912  Exceptionally ambitious high schooler Matthew ...   2004-04-09    108.0   \n",
       "3827  A girl is engaged to the local richman, but me...   1948-06-11    102.0   \n",
       "4700  A woman's dementia uncovers secrets of a 30-ye...   2014-09-12     94.0   \n",
       "\n",
       "                       title  vote_average  \\\n",
       "3500         The 5th Quarter           4.7   \n",
       "4673                 Urbania           5.2   \n",
       "1912      The Girl Next Door           6.3   \n",
       "3827              The Pirate           6.6   \n",
       "4700  Archaeology of a Woman           0.0   \n",
       "\n",
       "                                                   cast                 crew  \n",
       "3500      [Aidan Quinn, Andie MacDowell, Ryan Merriman]        [Rick Bieber]  \n",
       "4673         [Dan Futterman, Matt Keeslar, Samuel Ball]       [Jon Matthews]  \n",
       "1912  [Emile Hirsch, Elisha Cuthbert, Timothy Olyphant]    [Luke Greenfield]  \n",
       "3827          [Judy Garland, Gene Kelly, Walter Slezak]  [Vincente Minnelli]  \n",
       "4700   [Sally Kirkland, Victoria Clark, James Murtaugh]     [Sharon Greytak]  "
      ]
     },
     "execution_count": 27,
     "metadata": {},
     "output_type": "execute_result"
    }
   ],
   "source": [
    "movies_desciption.sample(5)"
   ]
  },
  {
   "cell_type": "code",
   "execution_count": null,
   "id": "191b168a",
   "metadata": {},
   "outputs": [],
   "source": [
    "movies_desciption.iloc[l[0]]"
   ]
  },
  {
   "cell_type": "code",
   "execution_count": null,
   "id": "14a34c42",
   "metadata": {},
   "outputs": [],
   "source": [
    "l = [1735,79698,37786,49852,109418,59981,300168,19724,70074,39437,38579,44603,13498,113464,15045,17379,38153,18937,16643,7288,24575,20542,19495,26486,257932,14324,109431,310706,2162,32274,27569,16300,31203,24071,192577,13495,63574,41488,16784,88042,14177,190955,133698,77883,20309,174751,184098,40688,41283,19150,13579,354110,22215,31005,44857,226486,35688,103370,9760,25132,47941,13682,14396,24432,14652,32316,112937,239897,184341,16110,244339,23082,157,146227,18701,396152,31166,31932,21765,41382,13960,16112,58048,13788,18840,185567,18777,17202,18736,17880,13768,37003,17644,16222,57943,38031,31306,24206,74536,40880,53457,319910,13824,15173,2830,14434,16899,41317,70829,15489,25462,14577,19052,44853,17187,59457,19084,34549,19419,14799,45226,44555,173931,61984,13889,256092,17708,13937,28932,24137,88641,58051,14877,373314,39349,15983,14544,17710,24034,34043,25520,13689,24664,29339,32740,64559,115872,41894,25186,208869,37737,40794,16162,15568,250349,12454,291081,41248,52010,43418,13483,175528,62676,20360,185008,37964,16471,59930,19489,198277,13072,30141,17044,256687,182873,389425,15365,36046,55903,312113,326284,22314,77156,104896,24985,110402,277519,164372,294512,14576,25113,14631,62255,16158,15797,347764,13537,35944,44260,58626,183894,135595,147767,55567,16186,253253,16096,21610,14745,14834,15745,18442,19615,78814,113406,447027,31175,40185,66607,13807,281730,362105,26379,15059,133575,60422,114635,158150,40505,22007,256740,23618,29463,17995,317930,22488,50942,39563,170480,180296,79587,191229,43213,325173,351043,346081,16016,33106,126509,116584,76706,13569,356216,74457,14156,43610,371085,347548,322443,20862,48382,22617,13121,325140,20653,171759,119458,20406,95755,188652,32235,329540,295886,36334,98557,191714,66468,283686,74084,25428,323271,39541,361505,294600,426469,356841,301325,347755,48463,218500,52790,84197,278316,357834,114065,49951,15544,137955,157422,310933,102840,159014,26791,24424,206412,20296,219716,43630,357441,335874,92635,258755,96534,21283,272724,101179,248402,29731,367551,279759,78705,211557,40862,13429,51955,376004,158752,40658,296943,138976,181940,125263,263503,331493,278348,89857,16653,84401,36825,21801,73511,45380,294550,117942,119657,362765,379532,297100,94072,325579,198370,328307,308467,64499,47546,189711,79161,371690,162396,91721,365052,426067,318040,80468,84188,300327,14290,378237,51942,325123,20520,46252,77934,320435,376010,77332,194588,287815,69270,126141,25786,361398,344466,408429,282128,38786,266857,272726,270554,64973,85860,159770,42109,84659,322745,174362,158895,222250,125537,326576,69382,220490,185465,366967,287625,13898,286939,67238,72766,126186]"
   ]
  },
  {
   "cell_type": "code",
   "execution_count": 28,
   "id": "537b1ad8",
   "metadata": {},
   "outputs": [
    {
     "data": {
      "text/plain": [
       "(4805, 10)"
      ]
     },
     "execution_count": 28,
     "metadata": {},
     "output_type": "execute_result"
    }
   ],
   "source": [
    "movies_desciption.shape"
   ]
  },
  {
   "cell_type": "code",
   "execution_count": 29,
   "id": "f3d86dc1",
   "metadata": {},
   "outputs": [],
   "source": [
    "movies_desciption.rename({'vote_average': 'rating'}, axis=1, inplace=True)"
   ]
  },
  {
   "cell_type": "code",
   "execution_count": null,
   "id": "7abdd95c",
   "metadata": {},
   "outputs": [],
   "source": [
    "# Movie Name\n",
    "# Rating\n",
    "# Runtime\n",
    "# Release Date\n",
    "# Genres\n",
    "# Cast\n",
    "# Director\n",
    "# Overview"
   ]
  },
  {
   "cell_type": "code",
   "execution_count": 30,
   "id": "fe770b6b",
   "metadata": {},
   "outputs": [],
   "source": [
    "month_dict = {'01': 'January', '02': 'February', '03': 'March', '04': 'April', '05': 'May', '06': 'June', '07': 'July', '08': 'August', '09': 'September', '10': 'October', '11': 'November', '12': 'December'}"
   ]
  },
  {
   "cell_type": "code",
   "execution_count": 31,
   "id": "7377dc10",
   "metadata": {},
   "outputs": [],
   "source": [
    "def count_time(time):\n",
    "    c = 1\n",
    "    h = 0\n",
    "    m = 0\n",
    "    string = ''\n",
    "    for i in range(time):\n",
    "            if c <= time:\n",
    "                if time < 60:\n",
    "                    m = time\n",
    "                    break\n",
    "                if c == 60:\n",
    "                    h = h + 1\n",
    "                    time = time - c\n",
    "                    c = 0\n",
    "                c = c + 1\n",
    "    if m == 0:\n",
    "        string = str(h) + ' hours'\n",
    "    else:\n",
    "        string = str(h) + ' hours ' + str(m) + ' minutes'\n",
    "    return string"
   ]
  },
  {
   "cell_type": "code",
   "execution_count": 47,
   "id": "ac925fa0",
   "metadata": {},
   "outputs": [
    {
     "data": {
      "text/html": [
       "<div>\n",
       "<style scoped>\n",
       "    .dataframe tbody tr th:only-of-type {\n",
       "        vertical-align: middle;\n",
       "    }\n",
       "\n",
       "    .dataframe tbody tr th {\n",
       "        vertical-align: top;\n",
       "    }\n",
       "\n",
       "    .dataframe thead th {\n",
       "        text-align: right;\n",
       "    }\n",
       "</style>\n",
       "<table border=\"1\" class=\"dataframe\">\n",
       "  <thead>\n",
       "    <tr style=\"text-align: right;\">\n",
       "      <th></th>\n",
       "      <th>genres</th>\n",
       "      <th>id</th>\n",
       "      <th>keywords</th>\n",
       "      <th>overview</th>\n",
       "      <th>release_date</th>\n",
       "      <th>runtime</th>\n",
       "      <th>title</th>\n",
       "      <th>rating</th>\n",
       "      <th>cast</th>\n",
       "      <th>crew</th>\n",
       "    </tr>\n",
       "  </thead>\n",
       "  <tbody>\n",
       "    <tr>\n",
       "      <th>3497</th>\n",
       "      <td>[Thriller, Adventure, Drama, Crime]</td>\n",
       "      <td>11583</td>\n",
       "      <td>[public hanging, strongbox, gold theft, britis...</td>\n",
       "      <td>In Victorian England, a master criminal makes ...</td>\n",
       "      <td>1979-01-25</td>\n",
       "      <td>110.0</td>\n",
       "      <td>The First Great Train Robbery</td>\n",
       "      <td>6.6</td>\n",
       "      <td>[Sean Connery, Donald Sutherland, Lesley-Anne ...</td>\n",
       "      <td>[Michael Crichton]</td>\n",
       "    </tr>\n",
       "    <tr>\n",
       "      <th>3630</th>\n",
       "      <td>[Comedy]</td>\n",
       "      <td>21014</td>\n",
       "      <td>[bar mitvah, party, independent film]</td>\n",
       "      <td>All hilarity breaks loose in this heartwarming...</td>\n",
       "      <td>2006-05-12</td>\n",
       "      <td>90.0</td>\n",
       "      <td>Keeping Up with the Steins</td>\n",
       "      <td>5.2</td>\n",
       "      <td>[Daryl Sabara, Jami Gertz, Jeremy Piven]</td>\n",
       "      <td>[Scott Marshall]</td>\n",
       "    </tr>\n",
       "    <tr>\n",
       "      <th>1458</th>\n",
       "      <td>[Adventure, Drama, Thriller]</td>\n",
       "      <td>285783</td>\n",
       "      <td>[1970s, skyscraper, based on true story, tight...</td>\n",
       "      <td>The story of French high-wire artist Philippe ...</td>\n",
       "      <td>2015-09-30</td>\n",
       "      <td>123.0</td>\n",
       "      <td>The Walk</td>\n",
       "      <td>6.9</td>\n",
       "      <td>[Joseph Gordon-Levitt, Ben Kingsley, Charlotte...</td>\n",
       "      <td>[Robert Zemeckis]</td>\n",
       "    </tr>\n",
       "    <tr>\n",
       "      <th>3447</th>\n",
       "      <td>[Comedy, Horror]</td>\n",
       "      <td>10925</td>\n",
       "      <td>[female nudity, crematorium, nudity, punk, com...</td>\n",
       "      <td>When a bumbling pair of employees at a medical...</td>\n",
       "      <td>1985-05-15</td>\n",
       "      <td>91.0</td>\n",
       "      <td>The Return of the Living Dead</td>\n",
       "      <td>7.3</td>\n",
       "      <td>[Clu Gulager, James Karen, Don Calfa]</td>\n",
       "      <td>[Dan O'Bannon]</td>\n",
       "    </tr>\n",
       "    <tr>\n",
       "      <th>403</th>\n",
       "      <td>[Adventure, Fantasy, Action, Comedy, Family]</td>\n",
       "      <td>9593</td>\n",
       "      <td>[magic, movie in movie, spoof, magical object,...</td>\n",
       "      <td>Danny is obsessed with a fictional movie chara...</td>\n",
       "      <td>1993-06-18</td>\n",
       "      <td>130.0</td>\n",
       "      <td>Last Action Hero</td>\n",
       "      <td>6.1</td>\n",
       "      <td>[Arnold Schwarzenegger, F. Murray Abraham, Art...</td>\n",
       "      <td>[John McTiernan]</td>\n",
       "    </tr>\n",
       "  </tbody>\n",
       "</table>\n",
       "</div>"
      ],
      "text/plain": [
       "                                            genres      id  \\\n",
       "3497           [Thriller, Adventure, Drama, Crime]   11583   \n",
       "3630                                      [Comedy]   21014   \n",
       "1458                  [Adventure, Drama, Thriller]  285783   \n",
       "3447                              [Comedy, Horror]   10925   \n",
       "403   [Adventure, Fantasy, Action, Comedy, Family]    9593   \n",
       "\n",
       "                                               keywords  \\\n",
       "3497  [public hanging, strongbox, gold theft, britis...   \n",
       "3630              [bar mitvah, party, independent film]   \n",
       "1458  [1970s, skyscraper, based on true story, tight...   \n",
       "3447  [female nudity, crematorium, nudity, punk, com...   \n",
       "403   [magic, movie in movie, spoof, magical object,...   \n",
       "\n",
       "                                               overview release_date  runtime  \\\n",
       "3497  In Victorian England, a master criminal makes ...   1979-01-25    110.0   \n",
       "3630  All hilarity breaks loose in this heartwarming...   2006-05-12     90.0   \n",
       "1458  The story of French high-wire artist Philippe ...   2015-09-30    123.0   \n",
       "3447  When a bumbling pair of employees at a medical...   1985-05-15     91.0   \n",
       "403   Danny is obsessed with a fictional movie chara...   1993-06-18    130.0   \n",
       "\n",
       "                              title  rating  \\\n",
       "3497  The First Great Train Robbery     6.6   \n",
       "3630     Keeping Up with the Steins     5.2   \n",
       "1458                       The Walk     6.9   \n",
       "3447  The Return of the Living Dead     7.3   \n",
       "403                Last Action Hero     6.1   \n",
       "\n",
       "                                                   cast                crew  \n",
       "3497  [Sean Connery, Donald Sutherland, Lesley-Anne ...  [Michael Crichton]  \n",
       "3630           [Daryl Sabara, Jami Gertz, Jeremy Piven]    [Scott Marshall]  \n",
       "1458  [Joseph Gordon-Levitt, Ben Kingsley, Charlotte...   [Robert Zemeckis]  \n",
       "3447              [Clu Gulager, James Karen, Don Calfa]      [Dan O'Bannon]  \n",
       "403   [Arnold Schwarzenegger, F. Murray Abraham, Art...    [John McTiernan]  "
      ]
     },
     "execution_count": 47,
     "metadata": {},
     "output_type": "execute_result"
    }
   ],
   "source": [
    "movies_desciption.sample(5)"
   ]
  },
  {
   "cell_type": "code",
   "execution_count": 63,
   "id": "e14e9b60",
   "metadata": {},
   "outputs": [],
   "source": [
    "import pickle\n",
    "pickle.dump(movies_desciption, open('eng_movies_desciption.pkl', 'wb'))"
   ]
  },
  {
   "cell_type": "code",
   "execution_count": 32,
   "id": "0819da47",
   "metadata": {},
   "outputs": [],
   "source": [
    "def movie_desc(name):\n",
    "    df = movies_desciption.copy()\n",
    "    dictionary = {}\n",
    "    index = df[df['title'] == name].index[0]\n",
    "    dictionary['Movie Name'] = df[df['title'] == name]['title'][index]\n",
    "    dictionary['Rating'] = df[df['title'] == name]['rating'][index]\n",
    "    rt = df[df['title'] == name]['runtime'][index]\n",
    "    dictionary['Runtime'] = count_time(int(rt))\n",
    "    string = df[df['title'] == name]['release_date'][index]\n",
    "    date_string = string.split('-')[2] + ' ' + month_dict[string.split('-')[1]] + ' ' + string.split('-')[0]\n",
    "    dictionary['Release Date'] = date_string\n",
    "    dictionary['Genres'] = df[df['title'] == name]['genres'][index]\n",
    "    dictionary['Cast'] = df[df['title'] == name]['cast'][index]\n",
    "    dictionary['Director'] = df[df['title'] == name]['crew'][index]\n",
    "    dictionary['About'] = df[df['title'] == name]['overview'][index]\n",
    "    return dictionary"
   ]
  },
  {
   "cell_type": "code",
   "execution_count": 48,
   "id": "86363245",
   "metadata": {},
   "outputs": [
    {
     "data": {
      "text/plain": [
       "{'Movie Name': 'Keeping Up with the Steins',\n",
       " 'Rating': 5.2,\n",
       " 'Runtime': '1 hours 30 minutes',\n",
       " 'Release Date': '12 May 2006',\n",
       " 'Genres': ['Comedy'],\n",
       " 'Cast': ['Daryl Sabara', 'Jami Gertz', 'Jeremy Piven'],\n",
       " 'Director': ['Scott Marshall'],\n",
       " 'About': \"All hilarity breaks loose in this heartwarming coming-of-age comedy when three generations of Fiedlers collide in a crazy family reunion. As they prepare for the biggest Bar Mitzvah on the block, they begin to see that they're much more alike than they'd originally thought.\"}"
      ]
     },
     "execution_count": 48,
     "metadata": {},
     "output_type": "execute_result"
    }
   ],
   "source": [
    "movie_desc('Keeping Up with the Steins')"
   ]
  },
  {
   "cell_type": "code",
   "execution_count": null,
   "id": "ddfbd824",
   "metadata": {},
   "outputs": [],
   "source": [
    "str(int(movie_desc('Spectre')['Runtime']) / 60).split('.')[0] + ' Hours' + ' and ' + str(int(movie_desc('Spectre')['Runtime']) / 60).split('.')[1][0:2] + ' minutes'"
   ]
  },
  {
   "cell_type": "code",
   "execution_count": 42,
   "id": "b3bc7998",
   "metadata": {},
   "outputs": [],
   "source": [
    "hindi_movies_desc = pd.read_pickle('data/hindi_movies_desc.pkl')"
   ]
  },
  {
   "cell_type": "code",
   "execution_count": 57,
   "id": "0288d2a5",
   "metadata": {
    "scrolled": true
   },
   "outputs": [
    {
     "data": {
      "text/html": [
       "<div>\n",
       "<style scoped>\n",
       "    .dataframe tbody tr th:only-of-type {\n",
       "        vertical-align: middle;\n",
       "    }\n",
       "\n",
       "    .dataframe tbody tr th {\n",
       "        vertical-align: top;\n",
       "    }\n",
       "\n",
       "    .dataframe thead th {\n",
       "        text-align: right;\n",
       "    }\n",
       "</style>\n",
       "<table border=\"1\" class=\"dataframe\">\n",
       "  <thead>\n",
       "    <tr style=\"text-align: right;\">\n",
       "      <th></th>\n",
       "      <th>movie_id</th>\n",
       "      <th>overview</th>\n",
       "      <th>release_date</th>\n",
       "      <th>title</th>\n",
       "      <th>vote_average</th>\n",
       "      <th>genres</th>\n",
       "      <th>cast</th>\n",
       "      <th>crew</th>\n",
       "    </tr>\n",
       "  </thead>\n",
       "  <tbody>\n",
       "    <tr>\n",
       "      <th>0</th>\n",
       "      <td>783461</td>\n",
       "      <td>When her boyfriend loses a mobster's cash, Sav...</td>\n",
       "      <td>2022-02-04</td>\n",
       "      <td>Looop Lapeta</td>\n",
       "      <td>6.2</td>\n",
       "      <td>[Action, Comedy, Crime]</td>\n",
       "      <td>[Taapsee Pannu, Tahir Raj Bhasin, Shreya Dhanw...</td>\n",
       "      <td>[Aakash Bhatia]</td>\n",
       "    </tr>\n",
       "    <tr>\n",
       "      <th>1</th>\n",
       "      <td>592508</td>\n",
       "      <td>A fearless, faithful albeit slightly forgetful...</td>\n",
       "      <td>2021-11-05</td>\n",
       "      <td>Sooryavanshi</td>\n",
       "      <td>5.8</td>\n",
       "      <td>[Action, Crime, Thriller]</td>\n",
       "      <td>[Akshay Kumar, Katrina Kaif, Ajay Devgn]</td>\n",
       "      <td>[Rohit Shetty]</td>\n",
       "    </tr>\n",
       "    <tr>\n",
       "      <th>2</th>\n",
       "      <td>864692</td>\n",
       "      <td>A soldier caught by enemies and presumed dead ...</td>\n",
       "      <td>2023-01-25</td>\n",
       "      <td>Pathaan</td>\n",
       "      <td>6.7</td>\n",
       "      <td>[Action, Adventure, Thriller]</td>\n",
       "      <td>[Shah Rukh Khan, Deepika Padukone, John Abraham]</td>\n",
       "      <td>[Siddharth Anand]</td>\n",
       "    </tr>\n",
       "    <tr>\n",
       "      <th>3</th>\n",
       "      <td>1018228</td>\n",
       "      <td>A flight attendant and her boyfriend must stea...</td>\n",
       "      <td>2023-03-24</td>\n",
       "      <td>Chor Nikal Ke Bhaga</td>\n",
       "      <td>7.2</td>\n",
       "      <td>[Crime, Thriller]</td>\n",
       "      <td>[Yami Gautam, Sunny Kaushal, Sharad Kelkar]</td>\n",
       "      <td>[Ajay Singh]</td>\n",
       "    </tr>\n",
       "    <tr>\n",
       "      <th>4</th>\n",
       "      <td>20453</td>\n",
       "      <td>Rascal. Joker. Dreamer. Genius... You've never...</td>\n",
       "      <td>2009-12-25</td>\n",
       "      <td>3 Idiots</td>\n",
       "      <td>8.0</td>\n",
       "      <td>[Drama, Comedy]</td>\n",
       "      <td>[Aamir Khan, R. Madhavan, Sharman Joshi]</td>\n",
       "      <td>[Rajkumar Hirani]</td>\n",
       "    </tr>\n",
       "  </tbody>\n",
       "</table>\n",
       "</div>"
      ],
      "text/plain": [
       "   movie_id                                           overview release_date  \\\n",
       "0    783461  When her boyfriend loses a mobster's cash, Sav...   2022-02-04   \n",
       "1    592508  A fearless, faithful albeit slightly forgetful...   2021-11-05   \n",
       "2    864692  A soldier caught by enemies and presumed dead ...   2023-01-25   \n",
       "3   1018228  A flight attendant and her boyfriend must stea...   2023-03-24   \n",
       "4     20453  Rascal. Joker. Dreamer. Genius... You've never...   2009-12-25   \n",
       "\n",
       "                 title  vote_average                         genres  \\\n",
       "0         Looop Lapeta           6.2        [Action, Comedy, Crime]   \n",
       "1         Sooryavanshi           5.8      [Action, Crime, Thriller]   \n",
       "2              Pathaan           6.7  [Action, Adventure, Thriller]   \n",
       "3  Chor Nikal Ke Bhaga           7.2              [Crime, Thriller]   \n",
       "4             3 Idiots           8.0                [Drama, Comedy]   \n",
       "\n",
       "                                                cast               crew  \n",
       "0  [Taapsee Pannu, Tahir Raj Bhasin, Shreya Dhanw...    [Aakash Bhatia]  \n",
       "1           [Akshay Kumar, Katrina Kaif, Ajay Devgn]     [Rohit Shetty]  \n",
       "2   [Shah Rukh Khan, Deepika Padukone, John Abraham]  [Siddharth Anand]  \n",
       "3        [Yami Gautam, Sunny Kaushal, Sharad Kelkar]       [Ajay Singh]  \n",
       "4           [Aamir Khan, R. Madhavan, Sharman Joshi]  [Rajkumar Hirani]  "
      ]
     },
     "execution_count": 57,
     "metadata": {},
     "output_type": "execute_result"
    }
   ],
   "source": [
    "hindi_movies_desc.head()"
   ]
  },
  {
   "cell_type": "code",
   "execution_count": 58,
   "id": "f08a88f0",
   "metadata": {},
   "outputs": [],
   "source": [
    "hindi_movies_desc.rename({'vote_average': 'rating'}, axis=1, inplace=True)"
   ]
  },
  {
   "cell_type": "code",
   "execution_count": 59,
   "id": "2f66ae89",
   "metadata": {},
   "outputs": [],
   "source": [
    "def hindi_movie_desc(name):\n",
    "    df = hindi_movies_desc.copy()\n",
    "    dictionary = {}\n",
    "    index = df[df['title'] == name].index[0]\n",
    "    dictionary['Movie Name'] = df[df['title'] == name]['title'][index]\n",
    "    dictionary['Rating'] = df[df['title'] == name]['rating'][index]\n",
    "    string = df[df['title'] == name]['release_date'][index]\n",
    "    date_string = string.split('-')[2] + ' ' + month_dict[string.split('-')[1]] + ' ' + string.split('-')[0]\n",
    "    dictionary['Release Date'] = date_string\n",
    "    dictionary['Genres'] = df[df['title'] == name]['genres'][index]\n",
    "    dictionary['Cast'] = df[df['title'] == name]['cast'][index]\n",
    "    dictionary['Director'] = df[df['title'] == name]['crew'][index]\n",
    "    dictionary['About'] = df[df['title'] == name]['overview'][index]\n",
    "    return dictionary"
   ]
  },
  {
   "cell_type": "code",
   "execution_count": 69,
   "id": "fdd22d04",
   "metadata": {},
   "outputs": [
    {
     "data": {
      "text/plain": [
       "{'Movie Name': 'Pathaan',\n",
       " 'Rating': 6.7,\n",
       " 'Release Date': '25 January 2023',\n",
       " 'Genres': ['Action', 'Adventure', 'Thriller'],\n",
       " 'Cast': ['Shah Rukh Khan', 'Deepika Padukone', 'John Abraham'],\n",
       " 'Director': ['Siddharth Anand'],\n",
       " 'About': 'A soldier caught by enemies and presumed dead comes back to complete his mission, accompanied by old companions and foes.'}"
      ]
     },
     "execution_count": 69,
     "metadata": {},
     "output_type": "execute_result"
    }
   ],
   "source": [
    "hindi_movie_desc('Pathaan')"
   ]
  },
  {
   "cell_type": "code",
   "execution_count": 68,
   "id": "1b763396",
   "metadata": {},
   "outputs": [
    {
     "data": {
      "text/plain": [
       "'Pathaan'"
      ]
     },
     "execution_count": 68,
     "metadata": {},
     "output_type": "execute_result"
    }
   ],
   "source": [
    "t['Movie Name']"
   ]
  },
  {
   "cell_type": "code",
   "execution_count": null,
   "id": "156636eb",
   "metadata": {},
   "outputs": [],
   "source": []
  },
  {
   "cell_type": "code",
   "execution_count": null,
   "id": "606f2345",
   "metadata": {},
   "outputs": [],
   "source": [
    "rt = df[df['title'] == name]['runtime'][index]\n",
    "    dictionary['Runtime'] = count_time(int(rt))"
   ]
  }
 ],
 "metadata": {
  "kernelspec": {
   "display_name": "Python 3 (ipykernel)",
   "language": "python",
   "name": "python3"
  },
  "language_info": {
   "codemirror_mode": {
    "name": "ipython",
    "version": 3
   },
   "file_extension": ".py",
   "mimetype": "text/x-python",
   "name": "python",
   "nbconvert_exporter": "python",
   "pygments_lexer": "ipython3",
   "version": "3.7.7"
  }
 },
 "nbformat": 4,
 "nbformat_minor": 5
}
